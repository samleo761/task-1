{
 "cells": [
  {
   "cell_type": "code",
   "execution_count": 6,
   "id": "58e6a08a",
   "metadata": {},
   "outputs": [],
   "source": [
    "import cv2\n",
    "import numpy as np\n"
   ]
  },
  {
   "cell_type": "code",
   "execution_count": 3,
   "id": "174865a8",
   "metadata": {},
   "outputs": [],
   "source": [
    "img=cv2.imread(\"nature.jpeg\")\n",
    "imga=cv2.resize(img,(500,500))"
   ]
  },
  {
   "cell_type": "code",
   "execution_count": 4,
   "id": "7b55d8eb",
   "metadata": {},
   "outputs": [
    {
     "name": "stdout",
     "output_type": "stream",
     "text": [
      "(500, 500, 3)\n",
      "500\n",
      "500\n"
     ]
    }
   ],
   "source": [
    "shap=imga.shape\n",
    "print(shap)\n",
    "height,width=imga.shape[:2]\n",
    "print(height)\n",
    "print(width)"
   ]
  },
  {
   "cell_type": "code",
   "execution_count": 7,
   "id": "c8b1ee47",
   "metadata": {},
   "outputs": [
    {
     "data": {
      "text/plain": [
       "-1"
      ]
     },
     "execution_count": 7,
     "metadata": {},
     "output_type": "execute_result"
    }
   ],
   "source": [
    "tx,ty = width/100,height/100\n",
    "translation_matrix = np.array([[1,0,tx],[0,1,ty]])\n",
    "translated_img = cv2.warpAffine(src=imga, M=translation_matrix, dsize=(width,height))\n",
    "cv2.imshow('Trans',translated_img)\n",
    "cv2.waitKey(0)"
   ]
  },
  {
   "cell_type": "code",
   "execution_count": 8,
   "id": "97b9dde9",
   "metadata": {},
   "outputs": [
    {
     "data": {
      "text/plain": [
       "True"
      ]
     },
     "execution_count": 8,
     "metadata": {},
     "output_type": "execute_result"
    }
   ],
   "source": [
    "cv2.imwrite(\"translated image.jpeg\",translated_img)"
   ]
  }
 ],
 "metadata": {
  "kernelspec": {
   "display_name": "Python 3 (ipykernel)",
   "language": "python",
   "name": "python3"
  },
  "language_info": {
   "codemirror_mode": {
    "name": "ipython",
    "version": 3
   },
   "file_extension": ".py",
   "mimetype": "text/x-python",
   "name": "python",
   "nbconvert_exporter": "python",
   "pygments_lexer": "ipython3",
   "version": "3.9.13"
  }
 },
 "nbformat": 4,
 "nbformat_minor": 5
}
