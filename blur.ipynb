{
 "cells": [
  {
   "cell_type": "code",
   "execution_count": 1,
   "id": "4d29371a",
   "metadata": {},
   "outputs": [],
   "source": [
    "import cv2\n",
    "import numpy as np"
   ]
  },
  {
   "cell_type": "code",
   "execution_count": 2,
   "id": "a29be66d",
   "metadata": {},
   "outputs": [],
   "source": [
    "img=cv2.imread(\"nature.jpeg\")\n",
    "noi=cv2.imread(\"noisec.png\")\n",
    "noi_re=cv2.resize(noi,(400,400))\n",
    "img_re=cv2.resize(img,(400,400))"
   ]
  },
  {
   "cell_type": "code",
   "execution_count": 3,
   "id": "1d0d29ad",
   "metadata": {},
   "outputs": [],
   "source": [
    "ker=np.ones((3,3),float)/9"
   ]
  },
  {
   "cell_type": "code",
   "execution_count": 4,
   "id": "2f3033b4",
   "metadata": {},
   "outputs": [],
   "source": [
    "avg=cv2.blur(img_re,(25,25))#average blur\n",
    "med=cv2.medianBlur(noi_re,3)#median blur\n",
    "bi=cv2.bilateralFilter(noi_re,15,30,30)#bilateralfilter\n",
    "d=cv2.filter2D(img_re,-1,ker)#2dfiltering"
   ]
  },
  {
   "cell_type": "code",
   "execution_count": 5,
   "id": "3e9a97f7",
   "metadata": {},
   "outputs": [],
   "source": [
    "cv2.imshow(\"avg\",avg)\n",
    "cv2.imshow(\"median\",med)\n",
    "cv2.imshow(\"bilateral\",bi)\n",
    "cv2.imshow(\"2d\",d)\n",
    "cv2.waitKey(0)\n",
    "cv2.destroyAllWindows()"
   ]
  },
  {
   "cell_type": "code",
   "execution_count": 7,
   "id": "e9e07c03",
   "metadata": {},
   "outputs": [
    {
     "data": {
      "text/plain": [
       "True"
      ]
     },
     "execution_count": 7,
     "metadata": {},
     "output_type": "execute_result"
    }
   ],
   "source": [
    "cv2.imwrite(\"avg.jpeg\",avg)\n",
    "cv2.imwrite(\"median.jpeg\",med)\n",
    "cv2.imwrite(\"bilateral.jpeg\",bi)\n",
    "cv2.imwrite(\"2d.jpeg\",d)"
   ]
  }
 ],
 "metadata": {
  "kernelspec": {
   "display_name": "Python 3 (ipykernel)",
   "language": "python",
   "name": "python3"
  },
  "language_info": {
   "codemirror_mode": {
    "name": "ipython",
    "version": 3
   },
   "file_extension": ".py",
   "mimetype": "text/x-python",
   "name": "python",
   "nbconvert_exporter": "python",
   "pygments_lexer": "ipython3",
   "version": "3.9.13"
  }
 },
 "nbformat": 4,
 "nbformat_minor": 5
}
