{
 "cells": [
  {
   "cell_type": "code",
   "execution_count": 1,
   "id": "fec2d3b7",
   "metadata": {},
   "outputs": [],
   "source": [
    "import cv2"
   ]
  },
  {
   "cell_type": "code",
   "execution_count": 12,
   "id": "4d37ebda",
   "metadata": {},
   "outputs": [],
   "source": [
    "img=cv2.imread(\"nature.jpeg\")\n",
    "imgre=cv2.resize(img,(400,400))#image resize"
   ]
  },
  {
   "cell_type": "code",
   "execution_count": 9,
   "id": "2808c199",
   "metadata": {},
   "outputs": [],
   "source": [
    "gr=cv2.cvtColor(imgre,cv2.COLOR_BGR2GRAY)\n",
    "co=cv2.cvtColor(imgre,cv2.COLOR_BGR2HSV)"
   ]
  },
  {
   "cell_type": "code",
   "execution_count": 10,
   "id": "18f6f278",
   "metadata": {},
   "outputs": [],
   "source": [
    "cv2.imshow(\"normal image\",imgre)\n",
    "cv2.imshow(\"gray image\",gr)\n",
    "cv2.imshow(\"hsv\",co)\n",
    "cv2.waitKey(0)\n",
    "cv2.destroyAllWindows()"
   ]
  },
  {
   "cell_type": "code",
   "execution_count": 11,
   "id": "85867156",
   "metadata": {},
   "outputs": [
    {
     "data": {
      "text/plain": [
       "True"
      ]
     },
     "execution_count": 11,
     "metadata": {},
     "output_type": "execute_result"
    }
   ],
   "source": [
    "cv2.imwrite(\"gray.jpeg\",gr)\n",
    "cv2.imwrite(\"hsv.jpeg\",co)"
   ]
  }
 ],
 "metadata": {
  "kernelspec": {
   "display_name": "Python 3 (ipykernel)",
   "language": "python",
   "name": "python3"
  },
  "language_info": {
   "codemirror_mode": {
    "name": "ipython",
    "version": 3
   },
   "file_extension": ".py",
   "mimetype": "text/x-python",
   "name": "python",
   "nbconvert_exporter": "python",
   "pygments_lexer": "ipython3",
   "version": "3.9.13"
  }
 },
 "nbformat": 4,
 "nbformat_minor": 5
}
