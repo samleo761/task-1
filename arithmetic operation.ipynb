{
 "cells": [
  {
   "cell_type": "code",
   "execution_count": 1,
   "id": "72a446e8",
   "metadata": {},
   "outputs": [],
   "source": [
    "import cv2"
   ]
  },
  {
   "cell_type": "code",
   "execution_count": 3,
   "id": "0c39ff04",
   "metadata": {},
   "outputs": [],
   "source": [
    "img=cv2.imread(\"img1.png\")\n",
    "imga=cv2.imread(\"img2.png\")"
   ]
  },
  {
   "cell_type": "markdown",
   "id": "4fca83fe",
   "metadata": {},
   "source": [
    "image addition"
   ]
  },
  {
   "cell_type": "code",
   "execution_count": 5,
   "id": "0204e2ff",
   "metadata": {},
   "outputs": [],
   "source": [
    "imAdd=cv2.addWeighted(img,0.5,imga,0.5,1)"
   ]
  },
  {
   "cell_type": "code",
   "execution_count": 6,
   "id": "7b0cce96",
   "metadata": {},
   "outputs": [],
   "source": [
    "cv2.imshow(\"a\",img)\n",
    "cv2.imshow(\"b\",imga)\n",
    "cv2.imshow(\"a+b\",imAdd)\n",
    "cv2.waitKey(0)\n",
    "cv2.destroyAllWindows()"
   ]
  },
  {
   "cell_type": "code",
   "execution_count": 8,
   "id": "8932c24f",
   "metadata": {},
   "outputs": [
    {
     "data": {
      "text/plain": [
       "True"
      ]
     },
     "execution_count": 8,
     "metadata": {},
     "output_type": "execute_result"
    }
   ],
   "source": [
    "cv2.imwrite(\"a+b.png\",imAdd)"
   ]
  },
  {
   "cell_type": "markdown",
   "id": "d69e9906",
   "metadata": {},
   "source": [
    "logical operation"
   ]
  },
  {
   "cell_type": "code",
   "execution_count": 9,
   "id": "b63ced0f",
   "metadata": {},
   "outputs": [],
   "source": [
    "imAnd=cv2.bitwise_xor(img,imga,mask=None)"
   ]
  },
  {
   "cell_type": "code",
   "execution_count": 11,
   "id": "ea255815",
   "metadata": {},
   "outputs": [],
   "source": [
    "cv2.imshow(\"a and b\",imAnd)\n",
    "cv2.waitKey(0)\n",
    "cv2.destroyAllWindows()"
   ]
  },
  {
   "cell_type": "code",
   "execution_count": 14,
   "id": "6b1eee70",
   "metadata": {},
   "outputs": [
    {
     "data": {
      "text/plain": [
       "True"
      ]
     },
     "execution_count": 14,
     "metadata": {},
     "output_type": "execute_result"
    }
   ],
   "source": [
    "cv2.imwrite(\"a and b.png\",imAnd)"
   ]
  },
  {
   "cell_type": "markdown",
   "id": "fc79253b",
   "metadata": {},
   "source": [
    "subraction"
   ]
  },
  {
   "cell_type": "code",
   "execution_count": 12,
   "id": "d67b80f8",
   "metadata": {},
   "outputs": [],
   "source": [
    "imsub=cv2.subtract(img,imga)"
   ]
  },
  {
   "cell_type": "code",
   "execution_count": 13,
   "id": "970b2e7e",
   "metadata": {},
   "outputs": [],
   "source": [
    "cv2.imshow(\"a-b\",imsub)\n",
    "cv2.waitKey(0)\n",
    "cv2.destroyAllWindows()"
   ]
  },
  {
   "cell_type": "code",
   "execution_count": 15,
   "id": "6d5e42c3",
   "metadata": {},
   "outputs": [
    {
     "data": {
      "text/plain": [
       "True"
      ]
     },
     "execution_count": 15,
     "metadata": {},
     "output_type": "execute_result"
    }
   ],
   "source": [
    "cv2.imwrite(\"a-b.png\",imsub)"
   ]
  }
 ],
 "metadata": {
  "kernelspec": {
   "display_name": "Python 3 (ipykernel)",
   "language": "python",
   "name": "python3"
  },
  "language_info": {
   "codemirror_mode": {
    "name": "ipython",
    "version": 3
   },
   "file_extension": ".py",
   "mimetype": "text/x-python",
   "name": "python",
   "nbconvert_exporter": "python",
   "pygments_lexer": "ipython3",
   "version": "3.9.13"
  }
 },
 "nbformat": 4,
 "nbformat_minor": 5
}
