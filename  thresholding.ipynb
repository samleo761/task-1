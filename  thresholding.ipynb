{
 "cells": [
  {
   "cell_type": "code",
   "execution_count": 6,
   "id": "985a0175",
   "metadata": {},
   "outputs": [],
   "source": [
    "import cv2"
   ]
  },
  {
   "cell_type": "code",
   "execution_count": 9,
   "id": "634a8454",
   "metadata": {},
   "outputs": [],
   "source": [
    "img=cv2.imread(\"ai.jpg\")\n",
    "img_re=cv2.resize(img,(400,400))"
   ]
  },
  {
   "cell_type": "code",
   "execution_count": 15,
   "id": "0b779fa2",
   "metadata": {},
   "outputs": [],
   "source": [
    "img_g=cv2.cvtColor(img_re,cv2.COLOR_BGR2GRAY)"
   ]
  },
  {
   "cell_type": "code",
   "execution_count": 16,
   "id": "ab7c03d8",
   "metadata": {},
   "outputs": [],
   "source": [
    "ret,t=cv2.threshold(img_g,70,255,cv2.THRESH_BINARY)\n",
    "at=cv2.adaptiveThreshold(img_g,255,cv2.ADAPTIVE_THRESH_MEAN_C,cv2.THRESH_BINARY,11,2)\n",
    "ath=cv2.adaptiveThreshold(img_g,255,cv2.ADAPTIVE_THRESH_GAUSSIAN_C,cv2.THRESH_BINARY,11,2)"
   ]
  },
  {
   "cell_type": "code",
   "execution_count": 17,
   "id": "e0e70125",
   "metadata": {},
   "outputs": [],
   "source": [
    "cv2.imshow(\"thres\",t)\n",
    "cv2.imshow(\"mean\",at)\n",
    "cv2.imshow(\"gaussian\",ath)\n",
    "cv2.waitKey(0)\n",
    "cv2.destroyAllWindows()"
   ]
  },
  {
   "cell_type": "code",
   "execution_count": 19,
   "id": "d01b49be",
   "metadata": {},
   "outputs": [
    {
     "data": {
      "text/plain": [
       "True"
      ]
     },
     "execution_count": 19,
     "metadata": {},
     "output_type": "execute_result"
    }
   ],
   "source": [
    "cv2.imwrite(\"thres.jpg\",t)\n",
    "cv2.imwrite(\"mean.jpg\",at)\n",
    "cv2.imwrite(\"gaussian.jpg\",ath)"
   ]
  }
 ],
 "metadata": {
  "kernelspec": {
   "display_name": "Python 3 (ipykernel)",
   "language": "python",
   "name": "python3"
  },
  "language_info": {
   "codemirror_mode": {
    "name": "ipython",
    "version": 3
   },
   "file_extension": ".py",
   "mimetype": "text/x-python",
   "name": "python",
   "nbconvert_exporter": "python",
   "pygments_lexer": "ipython3",
   "version": "3.9.13"
  }
 },
 "nbformat": 4,
 "nbformat_minor": 5
}
