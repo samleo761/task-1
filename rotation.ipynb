{
 "cells": [
  {
   "cell_type": "code",
   "execution_count": 1,
   "id": "ef24c73d",
   "metadata": {},
   "outputs": [],
   "source": [
    "import cv2"
   ]
  },
  {
   "cell_type": "code",
   "execution_count": 4,
   "id": "90ff12da",
   "metadata": {},
   "outputs": [],
   "source": [
    "img=cv2.imread(\"nature.jpeg\")\n",
    "imga=cv2.resize(img,(500,500))"
   ]
  },
  {
   "cell_type": "code",
   "execution_count": 6,
   "id": "42948c63",
   "metadata": {},
   "outputs": [
    {
     "name": "stdout",
     "output_type": "stream",
     "text": [
      "(500, 500, 3)\n",
      "500\n",
      "500\n"
     ]
    }
   ],
   "source": [
    "shap=imga.shape\n",
    "print(shap)\n",
    "height,width=imga.shape[:2]\n",
    "print(height)\n",
    "print(width)"
   ]
  },
  {
   "cell_type": "code",
   "execution_count": 7,
   "id": "143c9d86",
   "metadata": {},
   "outputs": [
    {
     "name": "stdout",
     "output_type": "stream",
     "text": [
      "(250.0, 250.0)\n"
     ]
    }
   ],
   "source": [
    "center = (height/2,width/2)\n",
    "print(center)"
   ]
  },
  {
   "cell_type": "code",
   "execution_count": null,
   "id": "839566dd",
   "metadata": {},
   "outputs": [],
   "source": []
  },
  {
   "cell_type": "code",
   "execution_count": 8,
   "id": "68a75d67",
   "metadata": {},
   "outputs": [
    {
     "name": "stdout",
     "output_type": "stream",
     "text": [
      "[[  0.35355339   0.35355339  73.2233047 ]\n",
      " [ -0.35355339   0.35355339 250.        ]]\n"
     ]
    }
   ],
   "source": [
    "rotation_matrix = cv2.getRotationMatrix2D(center=center,angle=45,scale=0.5)\n",
    "print(rotation_matrix)"
   ]
  },
  {
   "cell_type": "code",
   "execution_count": 9,
   "id": "a587089b",
   "metadata": {},
   "outputs": [],
   "source": [
    "rotated_img = cv2.warpAffine(src=imga, M=rotation_matrix, dsize=(width,height))"
   ]
  },
  {
   "cell_type": "code",
   "execution_count": 10,
   "id": "95963b48",
   "metadata": {},
   "outputs": [],
   "source": [
    "cv2.imshow(\"orginal\",imga)\n",
    "cv2.imshow(\"rotated\",rotated_img)\n",
    "cv2.waitKey(0)\n",
    "cv2.destroyAllWindows()"
   ]
  }
 ],
 "metadata": {
  "kernelspec": {
   "display_name": "Python 3 (ipykernel)",
   "language": "python",
   "name": "python3"
  },
  "language_info": {
   "codemirror_mode": {
    "name": "ipython",
    "version": 3
   },
   "file_extension": ".py",
   "mimetype": "text/x-python",
   "name": "python",
   "nbconvert_exporter": "python",
   "pygments_lexer": "ipython3",
   "version": "3.9.13"
  }
 },
 "nbformat": 4,
 "nbformat_minor": 5
}
